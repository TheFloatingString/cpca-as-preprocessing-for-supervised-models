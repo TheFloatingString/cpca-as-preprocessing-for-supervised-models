{
  "nbformat": 4,
  "nbformat_minor": 0,
  "metadata": {
    "colab": {
      "provenance": []
    },
    "kernelspec": {
      "name": "python3",
      "display_name": "Python 3"
    },
    "language_info": {
      "name": "python"
    }
  },
  "cells": [
    {
      "cell_type": "markdown",
      "source": [
        "# **5-Fold Validation for k-NN on cPCA and PCA**"
      ],
      "metadata": {
        "id": "cyoNyDM8GPPh"
      }
    },
    {
      "cell_type": "markdown",
      "source": [
        "## Install Constrastive Dependency"
      ],
      "metadata": {
        "id": "n-wAvMfqz7gj"
      }
    },
    {
      "cell_type": "code",
      "source": [
        "import time\n",
        "\n",
        "start = time.time()"
      ],
      "metadata": {
        "id": "JO1BHwJYGMjk"
      },
      "execution_count": 106,
      "outputs": []
    },
    {
      "cell_type": "markdown",
      "source": [
        "Most of the code was taken from the [contrastive repository](https://github.com/abidlabs/contrastive/tree/master) for reproducibillity goals. For the method, see the author's paper \"Exploring Patterns Enriched in a Dataset with Contrastive Principal Component Analysis\", *Nature Communications* (2018)."
      ],
      "metadata": {
        "id": "ph9msUkh8B84"
      }
    },
    {
      "cell_type": "code",
      "source": [
        "!git clone https://github.com/abidlabs/contrastive"
      ],
      "metadata": {
        "id": "wMt17PM1ljju",
        "colab": {
          "base_uri": "https://localhost:8080/"
        },
        "outputId": "15e8c707-21cc-4bab-f6e1-a328398948d8"
      },
      "execution_count": 107,
      "outputs": [
        {
          "output_type": "stream",
          "name": "stdout",
          "text": [
            "fatal: destination path 'contrastive' already exists and is not an empty directory.\n"
          ]
        }
      ]
    },
    {
      "cell_type": "code",
      "execution_count": 108,
      "metadata": {
        "colab": {
          "base_uri": "https://localhost:8080/"
        },
        "id": "0PWW0HOKX16_",
        "outputId": "db1753a7-561e-4181-fa56-6257f359037f"
      },
      "outputs": [
        {
          "output_type": "stream",
          "name": "stdout",
          "text": [
            "Requirement already satisfied: contrastive in /usr/local/lib/python3.10/dist-packages (1.2.0)\n",
            "Requirement already satisfied: numpy in /usr/local/lib/python3.10/dist-packages (from contrastive) (1.23.5)\n",
            "Requirement already satisfied: scikit-learn in /usr/local/lib/python3.10/dist-packages (from contrastive) (1.2.2)\n",
            "Requirement already satisfied: matplotlib in /usr/local/lib/python3.10/dist-packages (from contrastive) (3.7.1)\n",
            "Requirement already satisfied: contourpy>=1.0.1 in /usr/local/lib/python3.10/dist-packages (from matplotlib->contrastive) (1.1.1)\n",
            "Requirement already satisfied: cycler>=0.10 in /usr/local/lib/python3.10/dist-packages (from matplotlib->contrastive) (0.12.0)\n",
            "Requirement already satisfied: fonttools>=4.22.0 in /usr/local/lib/python3.10/dist-packages (from matplotlib->contrastive) (4.43.1)\n",
            "Requirement already satisfied: kiwisolver>=1.0.1 in /usr/local/lib/python3.10/dist-packages (from matplotlib->contrastive) (1.4.5)\n",
            "Requirement already satisfied: packaging>=20.0 in /usr/local/lib/python3.10/dist-packages (from matplotlib->contrastive) (23.2)\n",
            "Requirement already satisfied: pillow>=6.2.0 in /usr/local/lib/python3.10/dist-packages (from matplotlib->contrastive) (9.4.0)\n",
            "Requirement already satisfied: pyparsing>=2.3.1 in /usr/local/lib/python3.10/dist-packages (from matplotlib->contrastive) (3.1.1)\n",
            "Requirement already satisfied: python-dateutil>=2.7 in /usr/local/lib/python3.10/dist-packages (from matplotlib->contrastive) (2.8.2)\n",
            "Requirement already satisfied: scipy>=1.3.2 in /usr/local/lib/python3.10/dist-packages (from scikit-learn->contrastive) (1.11.3)\n",
            "Requirement already satisfied: joblib>=1.1.1 in /usr/local/lib/python3.10/dist-packages (from scikit-learn->contrastive) (1.3.2)\n",
            "Requirement already satisfied: threadpoolctl>=2.0.0 in /usr/local/lib/python3.10/dist-packages (from scikit-learn->contrastive) (3.2.0)\n",
            "Requirement already satisfied: six>=1.5 in /usr/local/lib/python3.10/dist-packages (from python-dateutil>=2.7->matplotlib->contrastive) (1.16.0)\n"
          ]
        }
      ],
      "source": [
        "pip install contrastive"
      ]
    },
    {
      "cell_type": "markdown",
      "source": [
        "## Load Data"
      ],
      "metadata": {
        "id": "5Aw_9-2faVP-"
      }
    },
    {
      "cell_type": "code",
      "source": [
        "from sklearn.decomposition import PCA\n",
        "from contrastive import CPCA"
      ],
      "metadata": {
        "id": "Mgkk6Y6ZzfpA"
      },
      "execution_count": 109,
      "outputs": []
    },
    {
      "cell_type": "code",
      "source": [
        "DATA_CORTEX_NUCLEAR_FILEPATH = \"contrastive/experiments/datasets/Data_Cortex_Nuclear.csv\""
      ],
      "metadata": {
        "id": "2rAcZ3cKpRiY"
      },
      "execution_count": 110,
      "outputs": []
    },
    {
      "cell_type": "code",
      "source": [
        "import numpy as np\n",
        "%matplotlib inline\n",
        "\n",
        "data = np.genfromtxt(DATA_CORTEX_NUCLEAR_FILEPATH, delimiter=',',\n",
        "                     skip_header=1,usecols=range(1,78),filling_values=0)\n",
        "classes = np.genfromtxt(DATA_CORTEX_NUCLEAR_FILEPATH, delimiter=',',\n",
        "                        skip_header=1,usecols=range(78,81),dtype=None)"
      ],
      "metadata": {
        "id": "4nfBINRCzNFT",
        "colab": {
          "base_uri": "https://localhost:8080/"
        },
        "outputId": "612026fd-d2aa-4575-9fd0-2b99de6f0209"
      },
      "execution_count": 111,
      "outputs": [
        {
          "output_type": "stream",
          "name": "stderr",
          "text": [
            "<ipython-input-111-bbbec62b2beb>:6: VisibleDeprecationWarning: Reading unicode strings without specifying the encoding argument is deprecated. Set the encoding, use None for the system default.\n",
            "  classes = np.genfromtxt(DATA_CORTEX_NUCLEAR_FILEPATH, delimiter=',',\n"
          ]
        }
      ]
    },
    {
      "cell_type": "markdown",
      "source": [
        "## Process Data"
      ],
      "metadata": {
        "id": "bHg97BCW0L84"
      }
    },
    {
      "cell_type": "code",
      "source": [
        "target_idx_A = np.where((classes[:,-1]==b'S/C') & (classes[:,-2]==b'Saline') & (classes[:,-3]==b'Control'))[0]\n",
        "target_idx_B = np.where((classes[:,-1]==b'S/C') & (classes[:,-2]==b'Saline') & (classes[:,-3]==b'Ts65Dn'))[0]\n",
        "\n",
        "labels = len(target_idx_A)*[0] + len(target_idx_B)*[1]\n",
        "target_idx = np.concatenate((target_idx_A,target_idx_B))\n",
        "\n",
        "target = data[target_idx]\n",
        "\n",
        "background_idx = np.where((classes[:,-1]==b'C/S') & (classes[:,-2]==b'Saline') & (classes[:,-3]==b'Control'))\n",
        "background = data[background_idx]"
      ],
      "metadata": {
        "id": "m4xtud-Hbaw1"
      },
      "execution_count": 112,
      "outputs": []
    },
    {
      "cell_type": "markdown",
      "source": [
        "## Run Contrastive PCA"
      ],
      "metadata": {
        "id": "xTpF3FCI0OBl"
      }
    },
    {
      "cell_type": "code",
      "source": [
        "import os,sys,inspect\n",
        "currentdir = os.path.dirname(os.path.abspath(inspect.getfile(inspect.currentframe())))\n",
        "parentdir = os.path.dirname(currentdir)\n",
        "sys.path.insert(0,parentdir)\n",
        "\n",
        "from contrastive import CPCA\n",
        "\n",
        "mdl = CPCA()\n",
        "projected_data = mdl.fit_transform(target, background, plot=True, active_labels=labels)"
      ],
      "metadata": {
        "colab": {
          "base_uri": "https://localhost:8080/",
          "height": 332
        },
        "id": "CMLA1iWDbfxF",
        "outputId": "51ddb532-9319-49d9-c570-6407f0b897de"
      },
      "execution_count": 113,
      "outputs": [
        {
          "output_type": "display_data",
          "data": {
            "text/plain": [
              "<Figure size 1400x300 with 4 Axes>"
            ],
            "image/png": "[encoded data removed]"
          },
          "metadata": {}
        }
      ]
    },
    {
      "cell_type": "code",
      "source": [
        "projected_data_for_training = mdl.fit_transform(target, background, plot=False, active_labels=labels)\n",
        "print(len(projected_data_for_training))"
      ],
      "metadata": {
        "colab": {
          "base_uri": "https://localhost:8080/"
        },
        "id": "UbN_opkisw22",
        "outputId": "4f94bb59-8a8d-428e-ee30-e79e2686b7bc"
      },
      "execution_count": 114,
      "outputs": [
        {
          "output_type": "stream",
          "name": "stdout",
          "text": [
            "4\n"
          ]
        }
      ]
    },
    {
      "cell_type": "code",
      "source": [
        "from sklearn.decomposition import PCA\n",
        "\n",
        "pca = PCA(\n",
        "    n_components=2\n",
        ")\n",
        "\n",
        "X_pca_projected_data = pca.fit_transform(target)\n",
        "\n",
        "print(X_pca_projected_data.shape)\n"
      ],
      "metadata": {
        "colab": {
          "base_uri": "https://localhost:8080/"
        },
        "id": "Jp57J9P-TW6g",
        "outputId": "0cdd615d-2c41-4866-888e-ace01a25bb1c"
      },
      "execution_count": 115,
      "outputs": [
        {
          "output_type": "stream",
          "name": "stdout",
          "text": [
            "(270, 2)\n"
          ]
        }
      ]
    },
    {
      "cell_type": "code",
      "source": [
        "from sklearn.utils import shuffle"
      ],
      "metadata": {
        "id": "awnR-GjkxJwS"
      },
      "execution_count": 116,
      "outputs": []
    },
    {
      "cell_type": "markdown",
      "source": [
        "## **Implement 5-fold cross validation**"
      ],
      "metadata": {
        "id": "4Kmpuk1HxuKw"
      }
    },
    {
      "cell_type": "markdown",
      "source": [
        "Using PCA as a preprocessing tool"
      ],
      "metadata": {
        "id": "4ub3Lp8GT1DR"
      }
    },
    {
      "cell_type": "code",
      "source": [
        "from sklearn.model_selection import KFold, train_test_split\n",
        "from sklearn.neighbors import KNeighborsClassifier\n",
        "import numpy as np\n",
        "\n",
        "X_data, y_data = shuffle(X_pca_projected_data, np.array(labels))\n",
        "\n",
        "for n_neighbors in [1, 3, 5]:\n",
        "\n",
        "    train_accuracies = []\n",
        "    test_accuracies = []\n",
        "\n",
        "    kf = KFold(n_splits=5)\n",
        "    clf_knn = KNeighborsClassifier(\n",
        "        n_neighbors=n_neighbors\n",
        "    )\n",
        "    count = 0\n",
        "\n",
        "\n",
        "    for train_index, test_index in kf.split(X_train):\n",
        "        X_train_k, X_valid_k = X_data[train_index], X_data[test_index]\n",
        "        y_train_k, y_valid_k = np.array(y_data)[train_index], np.array(y_data)[test_index]\n",
        "\n",
        "        clf_knn.fit(X_train_k, y_train_k)\n",
        "        count += 1\n",
        "        train_accuracies.append(clf_knn.score(X_train_k, y_train_k))\n",
        "        test_accuracies.append(clf_knn.score(X_valid_k, y_valid_k))\n",
        "\n",
        "    print(f\"n_neighbors = {n_neighbors}\")\n",
        "\n",
        "    print(f\"Train acc mean: {np.mean(train_accuracies)}\")\n",
        "    print(f\"Train acc std: {np.std(train_accuracies)}\")\n",
        "    print(f\"Val acc mean: {np.mean(test_accuracies)}\")\n",
        "    print(f\"Val acc std: {np.std(test_accuracies)}\")\n",
        "    print()"
      ],
      "metadata": {
        "colab": {
          "base_uri": "https://localhost:8080/"
        },
        "id": "DRSRc10KTnw4",
        "outputId": "f4ec4abb-a675-47a3-98a5-9fe847b2a37c"
      },
      "execution_count": 117,
      "outputs": [
        {
          "output_type": "stream",
          "name": "stdout",
          "text": [
            "n_neighbors = 1\n",
            "Train acc mean: 1.0\n",
            "Train acc std: 0.0\n",
            "Val acc mean: 0.8910975609756097\n",
            "Val acc std: 0.0119711133578615\n",
            "\n",
            "n_neighbors = 3\n",
            "Train acc mean: 0.9505022620964649\n",
            "Train acc std: 0.012967429595526254\n",
            "Val acc mean: 0.8764634146341465\n",
            "Val acc std: 0.02607760805518471\n",
            "\n",
            "n_neighbors = 5\n",
            "Train acc mean: 0.926984126984127\n",
            "Train acc std: 0.01427158321390994\n",
            "Val acc mean: 0.8567073170731707\n",
            "Val acc std: 0.03538267051809782\n",
            "\n"
          ]
        }
      ]
    },
    {
      "cell_type": "markdown",
      "source": [
        "Results for cPCA alpha=0.0"
      ],
      "metadata": {
        "id": "x6w6pegwS8GW"
      }
    },
    {
      "cell_type": "code",
      "source": [
        "from sklearn.model_selection import KFold, train_test_split\n",
        "from sklearn.neighbors import KNeighborsClassifier\n",
        "import numpy as np\n",
        "\n",
        "\n",
        "X_data, y_data = shuffle(projected_data_for_training[0], np.array(labels))\n",
        "\n",
        "\n",
        "for n_neighbors in [1, 3, 5]:\n",
        "\n",
        "    train_accuracies = []\n",
        "    test_accuracies = []\n",
        "\n",
        "    kf = KFold(n_splits=5)\n",
        "\n",
        "    count = 0\n",
        "\n",
        "    for train_index, test_index in kf.split(X_train):\n",
        "\n",
        "        clf_knn = KNeighborsClassifier(\n",
        "            n_neighbors=n_neighbors\n",
        "        )\n",
        "\n",
        "        X_train_k, X_valid_k = X_data[train_index], X_data[test_index]\n",
        "        y_train_k, y_valid_k = y_data[train_index], y_data[test_index]\n",
        "\n",
        "        clf_knn.fit(X_train_k, y_train_k)\n",
        "        count += 1\n",
        "        train_accuracies.append(clf_knn.score(X_train_k, y_train_k))\n",
        "        test_accuracies.append(clf_knn.score(X_valid_k, y_valid_k))\n",
        "\n",
        "    print(f\"n_neighbors = {n_neighbors}\")\n",
        "\n",
        "    print(f\"Train acc mean: {np.mean(train_accuracies)}\")\n",
        "    print(f\"Train acc std: {np.std(train_accuracies)}\")\n",
        "    print(f\"Val acc mean: {np.mean(test_accuracies)}\")\n",
        "    print(f\"Val acc std: {np.std(test_accuracies)}\")\n",
        "    print()"
      ],
      "metadata": {
        "colab": {
          "base_uri": "https://localhost:8080/"
        },
        "id": "YByljYgGTA1T",
        "outputId": "403ec210-c9c9-49a5-acd6-14081526d542"
      },
      "execution_count": 118,
      "outputs": [
        {
          "output_type": "stream",
          "name": "stdout",
          "text": [
            "n_neighbors = 1\n",
            "Train acc mean: 1.0\n",
            "Train acc std: 0.0\n",
            "Val acc mean: 0.6782926829268292\n",
            "Val acc std: 0.04070431384967242\n",
            "\n",
            "n_neighbors = 3\n",
            "Train acc mean: 0.8465608465608465\n",
            "Train acc std: 0.019085141694418026\n",
            "Val acc mean: 0.6530487804878048\n",
            "Val acc std: 0.054677139007464924\n",
            "\n",
            "n_neighbors = 5\n",
            "Train acc mean: 0.7920941645579327\n",
            "Train acc std: 0.022147840241776906\n",
            "Val acc mean: 0.7073170731707317\n",
            "Val acc std: 0.05358642604721815\n",
            "\n"
          ]
        }
      ]
    },
    {
      "cell_type": "markdown",
      "source": [
        "Results for cPCA alpha=22.85"
      ],
      "metadata": {
        "id": "DumanqfJb6JP"
      }
    },
    {
      "cell_type": "code",
      "source": [
        "from sklearn.model_selection import KFold, train_test_split\n",
        "from sklearn.neighbors import KNeighborsClassifier\n",
        "import numpy as np\n",
        "\n",
        "\n",
        "X_data, y_data = shuffle(projected_data_for_training[1], np.array(labels))\n",
        "\n",
        "\n",
        "for n_neighbors in [1, 3, 5]:\n",
        "\n",
        "    train_accuracies = []\n",
        "    test_accuracies = []\n",
        "\n",
        "    kf = KFold(n_splits=5)\n",
        "\n",
        "    count = 0\n",
        "\n",
        "    for train_index, test_index in kf.split(X_train):\n",
        "\n",
        "        clf_knn = KNeighborsClassifier(\n",
        "            n_neighbors=n_neighbors\n",
        "        )\n",
        "\n",
        "        X_train_k, X_valid_k = X_data[train_index], X_data[test_index]\n",
        "        y_train_k, y_valid_k = y_data[train_index], y_data[test_index]\n",
        "\n",
        "        clf_knn.fit(X_train_k, y_train_k)\n",
        "        count += 1\n",
        "        train_accuracies.append(clf_knn.score(X_train_k, y_train_k))\n",
        "        test_accuracies.append(clf_knn.score(X_valid_k, y_valid_k))\n",
        "\n",
        "    print(f\"n_neighbors = {n_neighbors}\")\n",
        "\n",
        "    print(f\"Train acc mean: {np.mean(train_accuracies)}\")\n",
        "    print(f\"Train acc std: {np.std(train_accuracies)}\")\n",
        "    print(f\"Val acc mean: {np.mean(test_accuracies)}\")\n",
        "    print(f\"Val acc std: {np.std(test_accuracies)}\")\n",
        "    print()"
      ],
      "metadata": {
        "colab": {
          "base_uri": "https://localhost:8080/"
        },
        "id": "h0NMY8zMTwrQ",
        "outputId": "42ccafde-355d-43b0-cb74-e57ceaa55d02"
      },
      "execution_count": 119,
      "outputs": [
        {
          "output_type": "stream",
          "name": "stdout",
          "text": [
            "n_neighbors = 1\n",
            "Train acc mean: 1.0\n",
            "Train acc std: 0.0\n",
            "Val acc mean: 0.965731707317073\n",
            "Val acc std: 0.03647218264758937\n",
            "\n",
            "n_neighbors = 3\n",
            "Train acc mean: 0.9851545126907446\n",
            "Train acc std: 0.0029991481308992212\n",
            "Val acc mean: 0.9704878048780488\n",
            "Val acc std: 0.024100720638118314\n",
            "\n",
            "n_neighbors = 5\n",
            "Train acc mean: 0.9802085729621961\n",
            "Train acc std: 0.004588742536387971\n",
            "Val acc mean: 0.9607317073170731\n",
            "Val acc std: 0.03315996955972163\n",
            "\n"
          ]
        }
      ]
    },
    {
      "cell_type": "markdown",
      "source": [
        "Results for cPCA alpha=492.39"
      ],
      "metadata": {
        "id": "UhieHwcTcBH6"
      }
    },
    {
      "cell_type": "code",
      "source": [
        "from sklearn.model_selection import KFold, train_test_split\n",
        "from sklearn.neighbors import KNeighborsClassifier\n",
        "import numpy as np\n",
        "\n",
        "\n",
        "X_data, y_data = shuffle(projected_data_for_training[2], np.array(labels))\n",
        "\n",
        "\n",
        "for n_neighbors in [1, 3, 5]:\n",
        "\n",
        "    train_accuracies = []\n",
        "    test_accuracies = []\n",
        "\n",
        "    kf = KFold(n_splits=5)\n",
        "\n",
        "    count = 0\n",
        "\n",
        "    for train_index, test_index in kf.split(X_train):\n",
        "\n",
        "        clf_knn = KNeighborsClassifier(\n",
        "            n_neighbors=n_neighbors\n",
        "        )\n",
        "\n",
        "        X_train_k, X_valid_k = X_data[train_index], X_data[test_index]\n",
        "        y_train_k, y_valid_k = y_data[train_index], y_data[test_index]\n",
        "\n",
        "        clf_knn.fit(X_train_k, y_train_k)\n",
        "        count += 1\n",
        "        train_accuracies.append(clf_knn.score(X_train_k, y_train_k))\n",
        "        test_accuracies.append(clf_knn.score(X_valid_k, y_valid_k))\n",
        "\n",
        "    print(f\"n_neighbors = {n_neighbors}\")\n",
        "\n",
        "    print(f\"Train acc mean: {np.mean(train_accuracies)}\")\n",
        "    print(f\"Train acc std: {np.std(train_accuracies)}\")\n",
        "    print(f\"Val acc mean: {np.mean(test_accuracies)}\")\n",
        "    print(f\"Val acc std: {np.std(test_accuracies)}\")\n",
        "    print()"
      ],
      "metadata": {
        "colab": {
          "base_uri": "https://localhost:8080/"
        },
        "id": "6Br47AWSb4bn",
        "outputId": "97c374f1-605d-4dec-cb28-f4d0f4ab57d8"
      },
      "execution_count": 120,
      "outputs": [
        {
          "output_type": "stream",
          "name": "stdout",
          "text": [
            "n_neighbors = 1\n",
            "Train acc mean: 1.0\n",
            "Train acc std: 0.0\n",
            "Val acc mean: 0.821829268292683\n",
            "Val acc std: 0.04796327665201884\n",
            "\n",
            "n_neighbors = 3\n",
            "Train acc mean: 0.9047005597730235\n",
            "Train acc std: 0.003093648377431507\n",
            "Val acc mean: 0.826829268292683\n",
            "Val acc std: 0.060879192062435396\n",
            "\n",
            "n_neighbors = 5\n",
            "Train acc mean: 0.8601717659688675\n",
            "Train acc std: 0.009725133856908671\n",
            "Val acc mean: 0.8419512195121952\n",
            "Val acc std: 0.05232176339201244\n",
            "\n"
          ]
        }
      ]
    },
    {
      "cell_type": "markdown",
      "source": [
        "Results for cPCA alpha=623.55"
      ],
      "metadata": {
        "id": "8jHiSBG-THX1"
      }
    },
    {
      "cell_type": "code",
      "source": [
        "from sklearn.model_selection import KFold, train_test_split\n",
        "from sklearn.neighbors import KNeighborsClassifier\n",
        "import numpy as np\n",
        "\n",
        "\n",
        "X_data, y_data = shuffle(projected_data_for_training[3], np.array(labels))\n",
        "\n",
        "\n",
        "for n_neighbors in [1, 3, 5]:\n",
        "\n",
        "    train_accuracies = []\n",
        "    test_accuracies = []\n",
        "\n",
        "    kf = KFold(n_splits=5)\n",
        "\n",
        "    count = 0\n",
        "\n",
        "    for train_index, test_index in kf.split(X_train):\n",
        "\n",
        "        clf_knn = KNeighborsClassifier(\n",
        "            n_neighbors=n_neighbors\n",
        "        )\n",
        "\n",
        "        X_train_k, X_valid_k = X_data[train_index], X_data[test_index]\n",
        "        y_train_k, y_valid_k = y_data[train_index], y_data[test_index]\n",
        "\n",
        "        clf_knn.fit(X_train_k, y_train_k)\n",
        "        count += 1\n",
        "        train_accuracies.append(clf_knn.score(X_train_k, y_train_k))\n",
        "        test_accuracies.append(clf_knn.score(X_valid_k, y_valid_k))\n",
        "\n",
        "    print(f\"n_neighbors = {n_neighbors}\")\n",
        "\n",
        "    print(f\"Train acc mean: {np.mean(train_accuracies)}\")\n",
        "    print(f\"Train acc std: {np.std(train_accuracies)}\")\n",
        "    print(f\"Val acc mean: {np.mean(test_accuracies)}\")\n",
        "    print(f\"Val acc std: {np.std(test_accuracies)}\")\n",
        "    print()"
      ],
      "metadata": {
        "colab": {
          "base_uri": "https://localhost:8080/"
        },
        "id": "0K0omjb6TEt9",
        "outputId": "a1ea9f5d-0549-4b72-d80f-610a08d2dd18"
      },
      "execution_count": 121,
      "outputs": [
        {
          "output_type": "stream",
          "name": "stdout",
          "text": [
            "n_neighbors = 1\n",
            "Train acc mean: 1.0\n",
            "Train acc std: 0.0\n",
            "Val acc mean: 0.7717073170731708\n",
            "Val acc std: 0.0684379987058722\n",
            "\n",
            "n_neighbors = 3\n",
            "Train acc mean: 0.8700099685606932\n",
            "Train acc std: 0.01778194051529215\n",
            "Val acc mean: 0.8112195121951219\n",
            "Val acc std: 0.09056682500667998\n",
            "\n",
            "n_neighbors = 5\n",
            "Train acc mean: 0.8588758530787516\n",
            "Train acc std: 0.016608355629858934\n",
            "Val acc mean: 0.8209756097560975\n",
            "Val acc std: 0.08191055901874093\n",
            "\n"
          ]
        }
      ]
    },
    {
      "cell_type": "code",
      "source": [
        "end = time.time()\n",
        "print(f\"Elapsed time: {round(end-start, 2)} seconds\")"
      ],
      "metadata": {
        "colab": {
          "base_uri": "https://localhost:8080/"
        },
        "id": "ZlxZqbntGhFR",
        "outputId": "3042a69d-732a-4cc6-d5cc-7f38c91d1ca1"
      },
      "execution_count": 122,
      "outputs": [
        {
          "output_type": "stream",
          "name": "stdout",
          "text": [
            "Elapsed time: 14.88 seconds\n"
          ]
        }
      ]
    }
  ]
}
